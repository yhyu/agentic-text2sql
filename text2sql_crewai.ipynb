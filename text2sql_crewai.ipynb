{
 "cells": [
  {
   "cell_type": "code",
   "execution_count": 1,
   "metadata": {},
   "outputs": [],
   "source": [
    "import warnings\n",
    "warnings.filterwarnings('ignore')"
   ]
  },
  {
   "cell_type": "markdown",
   "metadata": {},
   "source": [
    "### Prepare LLM"
   ]
  },
  {
   "cell_type": "code",
   "execution_count": 2,
   "metadata": {},
   "outputs": [],
   "source": [
    "import json\n",
    "import os\n",
    "from crewai import Agent, Task, Crew\n",
    "\n",
    "os.environ['OPENAI_API_KEY'] = 'your-openai-api-key'\n",
    "os.environ[\"OPENAI_MODEL_NAME\"] = 'gpt-3.5-turbo'"
   ]
  },
  {
   "cell_type": "markdown",
   "metadata": {},
   "source": [
    "### Prepare Tools"
   ]
  },
  {
   "cell_type": "code",
   "execution_count": 3,
   "metadata": {},
   "outputs": [],
   "source": [
    "from crewai_tools import BaseTool\n",
    "from app.core.tools.semantic_search_tools import SemanticSearchTool\n",
    "\n",
    "class SemanticSearchToolForCrewAI(BaseTool):\n",
    "    name: str =\"Search database and table schemas tool\"\n",
    "    description: str = (\"Useful to search database and table schemas from vector DB, \"\n",
    "                        \"about a given question and return relevant database andtable schemas\")\n",
    "    semantic_search_tool: SemanticSearchTool = None\n",
    "\n",
    "    def __init__(self, n_results=10, **kwargs):\n",
    "        super().__init__(**kwargs)\n",
    "        self.semantic_search_tool = SemanticSearchTool(n_results, **kwargs)\n",
    "\n",
    "    def _run(self, question: str) -> str:\n",
    "        return self.semantic_search_tool(question)\n",
    "\n",
    "# Notes: you can expand n_results to make sure the search results cover final tables, e.g., n_results=50\n",
    "db_schema_search_tool = SemanticSearchToolForCrewAI(n_results=10)"
   ]
  },
  {
   "cell_type": "markdown",
   "metadata": {},
   "source": [
    "### Prepare experiment data"
   ]
  },
  {
   "cell_type": "code",
   "execution_count": 4,
   "metadata": {},
   "outputs": [
    {
     "name": "stdout",
     "output_type": "stream",
     "text": [
      "Loading cached Spider dataset from spider\n",
      "Schema file not found for spider/spider/database/twitter_1\n",
      "Schema file not found for spider/spider/database/epinions_1\n",
      "Schema file not found for spider/spider/database/chinook_1\n",
      "Schema file not found for spider/spider/database/company_1\n",
      "Schema file not found for spider/spider/database/flight_4\n",
      "Schema file not found for spider/spider/database/icfp_1\n",
      "Schema file not found for spider/spider/database/small_bank_1\n",
      "question: Find the famous titles of artists that do not have any volume.\n",
      "gold query: SELECT Famous_Title FROM artist WHERE Artist_ID NOT IN(SELECT Artist_ID FROM volume)\n",
      "gold result: [('Antievangelistical Process (re-release)',), ('Antithesis of All Flesh',)]\n"
     ]
    }
   ],
   "source": [
    "from spider_env import SpiderEnv\n",
    "\n",
    "spider = SpiderEnv(cache_dir='spider')\n",
    "\n",
    "# select a random question in Spider\n",
    "observation, info = spider.reset()\n",
    "question = observation[\"instruction\"]\n",
    "print('question:', question)\n",
    "print('gold query:', info['gold_query'])\n",
    "print('gold result:', info['gold_result'])"
   ]
  },
  {
   "cell_type": "markdown",
   "metadata": {},
   "source": [
    "### Create Agents"
   ]
  },
  {
   "cell_type": "code",
   "execution_count": 5,
   "metadata": {},
   "outputs": [],
   "source": [
    "with open('app/core/agents/crewai.json') as f:\n",
    "    agent_config = json.load(f)\n",
    "\n",
    "search_agent = Agent(**agent_config['assistant_dba'], tools=[db_schema_search_tool])\n",
    "sql_writer_agent = Agent(**agent_config['senior_sql_writer'])\n",
    "qa_agent = Agent(**agent_config['senior_qa_engineer'])"
   ]
  },
  {
   "cell_type": "markdown",
   "metadata": {},
   "source": [
    "### Create Tasks"
   ]
  },
  {
   "cell_type": "code",
   "execution_count": 6,
   "metadata": {},
   "outputs": [],
   "source": [
    "search_task = Task(\n",
    "    description='Using search tools to find related database/table candidates, and consolidate all relevant tables that belong the same database for information needed to answer the following question:\\n{question}',\n",
    "    expected_output=\"Return relevant database and tables' schema.\",\n",
    "    agent=search_agent\n",
    ")\n",
    "sql_writer_task = Task(\n",
    "    description='Based on the database/table schemas, generate a SQL query to answer the following question:\\n{question}',\n",
    "    expected_output=\"MUST BE ONLY a valid database sql script with required fields, don't add unnecessary fields.\",\n",
    "    agent=sql_writer_agent\n",
    ")\n",
    "qa_task = Task(\n",
    "    description=\"Check the given sql query carefully, and refine the sql query if necessary to make it fulfill the needs of the following question:\\n{question}\",\n",
    "    expected_output=\"The final sql query. MUST BE ONLY a valid sql script with required fields, don't add unnecessary fields, and must be consistent with table schemas.\",\n",
    "    agent=qa_agent,\n",
    "    context=[search_task, sql_writer_task]\n",
    ")"
   ]
  },
  {
   "cell_type": "markdown",
   "metadata": {},
   "source": [
    "### set-up a Crew"
   ]
  },
  {
   "cell_type": "code",
   "execution_count": 7,
   "metadata": {},
   "outputs": [],
   "source": [
    "text2sql_crew = Crew(\n",
    "    agents=[\n",
    "        search_agent,\n",
    "        sql_writer_agent,\n",
    "        qa_agent,\n",
    "    ],\n",
    "    tasks=[\n",
    "        search_task,\n",
    "        sql_writer_task,\n",
    "        qa_task,\n",
    "    ],\n",
    "    verbose=True\n",
    ")"
   ]
  },
  {
   "cell_type": "markdown",
   "metadata": {},
   "source": [
    "### Prepare inputs (question)"
   ]
  },
  {
   "cell_type": "code",
   "execution_count": 8,
   "metadata": {},
   "outputs": [],
   "source": [
    "text2sql_inputs = {\n",
    "    'question': question\n",
    "}"
   ]
  },
  {
   "cell_type": "markdown",
   "metadata": {},
   "source": [
    "### Kickoff crew actions"
   ]
  },
  {
   "cell_type": "code",
   "execution_count": 9,
   "metadata": {},
   "outputs": [
    {
     "name": "stdout",
     "output_type": "stream",
     "text": [
      "\u001b[1m\u001b[95m [2024-07-14 08:46:42][DEBUG]: == Working Agent: Assistant Search Engineer\u001b[00m\n",
      "\u001b[1m\u001b[95m [2024-07-14 08:46:42][INFO]: == Starting Task: Using search tools to find related database/table candidates, and consolidate all relevant tables that belong the same database for information needed to answer the following question:\n",
      "Find the famous titles of artists that do not have any volume.\u001b[00m\n",
      "\n",
      "\n",
      "\u001b[1m> Entering new CrewAgentExecutor chain...\u001b[0m\n",
      "\u001b[32;1m\u001b[1;3mI need to search for relevant databases and tables that contain information about artists and volumes.\n",
      "\n",
      "Action: Search database and table schemas tool\n",
      "Action Input: {'question': 'Find the famous titles of artists that do not have any volume.'}\n",
      "\u001b[0m\u001b[95m \n",
      "\n",
      "{\"database\": \"theme_gallery\", \"table\": \"artist\", \"schema\": \"CREATE TABLE \\\"artist\\\" (\\n\\\"Artist_ID\\\" int,\\n\\\"Name\\\" text,\\n\\\"Country\\\" text,\\n\\\"Year_Join\\\" int,\\n\\\"Age\\\" int,\\nPRIMARY KEY (\\\"Artist_ID\\\")\\n)\"}\n",
      "\n",
      "{\"database\": \"music_4\", \"table\": \"artist\", \"schema\": \"CREATE TABLE \\\"artist\\\" (\\n\\\"Artist_ID\\\" int,\\n\\\"Artist\\\" text,\\n\\\"Age\\\" int,\\n\\\"Famous_Title\\\" text,\\n\\\"Famous_Release_date\\\" text,\\nPRIMARY KEY (\\\"Artist_ID\\\")\\n)\"}\n",
      "\n",
      "{\"database\": \"chinook_1\", \"table\": \"Album\", \"schema\": \"CREATE TABLE `Album` (\\n  `AlbumId` integer NOT NULL\\n,  `Title` varchar(160) NOT NULL\\n,  `ArtistId` integer NOT NULL\\n,  PRIMARY KEY (`AlbumId`)\\n,  CONSTRAINT `FK_AlbumArtistId` FOREIGN KEY (`ArtistId`) REFERENCES `Artist` (`ArtistId`) ON DELETE NO ACTION ON UPDATE NO ACTION\\n)\"}\n",
      "\n",
      "{\"database\": \"chinook_1\", \"table\": \"Track\", \"schema\": \"CREATE TABLE `Track` (\\n  `TrackId` integer NOT NULL\\n,  `Name` varchar(200) NOT NULL\\n,  `AlbumId` integer DEFAULT NULL\\n,  `MediaTypeId` integer NOT NULL\\n,  `GenreId` integer DEFAULT NULL\\n,  `Composer` varchar(220) DEFAULT NULL\\n,  `Milliseconds` integer NOT NULL\\n,  `Bytes` integer DEFAULT NULL\\n,  `UnitPrice` decimal(10,2) NOT NULL\\n,  PRIMARY KEY (`TrackId`)\\n,  CONSTRAINT `FK_TrackAlbumId` FOREIGN KEY (`AlbumId`) REFERENCES `Album` (`AlbumId`) ON DELETE NO ACTION ON UPDATE NO ACTION\\n,  CONSTRAINT `FK_TrackGenreId` FOREIGN KEY (`GenreId`) REFERENCES `Genre` (`GenreId`) ON DELETE NO ACTION ON UPDATE NO ACTION\\n,  CONSTRAINT `FK_TrackMediaTypeId` FOREIGN KEY (`MediaTypeId`) REFERENCES `MediaType` (`MediaTypeId`) ON DELETE NO ACTION ON UPDATE NO ACTION\\n)\"}\n",
      "\n",
      "{\"database\": \"chinook_1\", \"table\": \"Artist\", \"schema\": \"CREATE TABLE `Artist` (\\n  `ArtistId` integer NOT NULL\\n,  `Name` varchar(120) DEFAULT NULL\\n,  PRIMARY KEY (`ArtistId`)\\n)\"}\n",
      "\n",
      "{\"database\": \"music_1\", \"table\": \"artist\", \"schema\": \"CREATE TABLE artist(\\n\\tartist_name varchar2(50) not null,\\n\\tcountry varchar2(20),\\n\\tgender varchar2(20),\\n\\tpreferred_genre varchar2(50),\\n\\tconstraint a_name primary key(artist_name),\\n\\tforeign key(preferred_genre) references genre(g_name) ON DELETE CASCADE\\n)\"}\n",
      "\n",
      "{\"database\": \"music_4\", \"table\": \"volume\", \"schema\": \"CREATE TABLE \\\"volume\\\" (\\n\\\"Volume_ID\\\" int,\\n\\\"Volume_Issue\\\" text,\\n\\\"Issue_Date\\\" text,\\n\\\"Weeks_on_Top\\\" real,\\n\\\"Song\\\" text,\\n\\\"Artist_ID\\\" int,\\nPRIMARY KEY (\\\"Volume_ID\\\"),\\nFOREIGN KEY (`Artist_ID`) REFERENCES `artist`(`Artist_ID`)\\n)\"}\n",
      "\n",
      "{\"database\": \"store_1\", \"table\": \"albums\", \"schema\": \"CREATE TABLE albums\\n(\\nid INTEGER PRIMARY KEY AUTOINCREMENT,\\ntitle VARCHAR(160)  NOT NULL,\\nartist_id INTEGER  NOT NULL,\\nFOREIGN KEY (artist_id) REFERENCES artists (id)\\nON DELETE NO ACTION ON UPDATE NO ACTION\\n)\"}\n",
      "\n",
      "{\"database\": \"singer\", \"table\": \"singer\", \"schema\": \"CREATE TABLE \\\"singer\\\" (\\n\\\"Singer_ID\\\" int,\\n\\\"Name\\\" text,\\n\\\"Birth_Year\\\" real,\\n\\\"Net_Worth_Millions\\\" real,\\n\\\"Citizenship\\\" text,\\nPRIMARY KEY (\\\"Singer_ID\\\")\\n)\"}\n",
      "\n",
      "{\"database\": \"music_1\", \"table\": \"files\", \"schema\": \"CREATE TABLE files(\\n\\tf_id number(10) not null,\\n\\tartist_name varchar2(50),\\n\\tfile_size varchar2(20),\\n\\tduration varchar2(20),\\n\\tformats varchar2(20),\\n\\tprimary key(f_id),\\n\\tforeign key(artist_name) references artist(artist_name) ON DELETE CASCADE\\n)\"}\n",
      "\n",
      "\u001b[00m\n",
      "\u001b[32;1m\u001b[1;3mFinal Answer: \n",
      "Database: music_4\n",
      "Table: artist\n",
      "Schema: \n",
      "CREATE TABLE \"artist\" (\n",
      "\"Artist_ID\" int,\n",
      "\"Artist\" text,\n",
      "\"Age\" int,\n",
      "\"Famous_Title\" text,\n",
      "\"Famous_Release_date\" text,\n",
      "PRIMARY KEY (\"Artist_ID\")\n",
      ")\n",
      "\n",
      "Database: music_4\n",
      "Table: volume\n",
      "Schema:\n",
      "CREATE TABLE \"volume\" (\n",
      "\"Volume_ID\" int,\n",
      "\"Volume_Issue\" text,\n",
      "\"Issue_Date\" text,\n",
      "\"Weeks_on_Top\" real,\n",
      "\"Song\" text,\n",
      "\"Artist_ID\" int,\n",
      "PRIMARY KEY (\"Volume_ID\"),\n",
      "FOREIGN KEY (`Artist_ID`) REFERENCES `artist`(`Artist_ID`)\n",
      ")\u001b[0m\n",
      "\n",
      "\u001b[1m> Finished chain.\u001b[0m\n",
      "\u001b[1m\u001b[92m [2024-07-14 08:46:46][DEBUG]: == [Assistant Search Engineer] Task output: Database: music_4\n",
      "Table: artist\n",
      "Schema: \n",
      "CREATE TABLE \"artist\" (\n",
      "\"Artist_ID\" int,\n",
      "\"Artist\" text,\n",
      "\"Age\" int,\n",
      "\"Famous_Title\" text,\n",
      "\"Famous_Release_date\" text,\n",
      "PRIMARY KEY (\"Artist_ID\")\n",
      ")\n",
      "\n",
      "Database: music_4\n",
      "Table: volume\n",
      "Schema:\n",
      "CREATE TABLE \"volume\" (\n",
      "\"Volume_ID\" int,\n",
      "\"Volume_Issue\" text,\n",
      "\"Issue_Date\" text,\n",
      "\"Weeks_on_Top\" real,\n",
      "\"Song\" text,\n",
      "\"Artist_ID\" int,\n",
      "PRIMARY KEY (\"Volume_ID\"),\n",
      "FOREIGN KEY (`Artist_ID`) REFERENCES `artist`(`Artist_ID`)\n",
      ")\n",
      "\n",
      "\u001b[00m\n",
      "\u001b[1m\u001b[95m [2024-07-14 08:46:46][DEBUG]: == Working Agent: Senior Database SQL query Writer\u001b[00m\n",
      "\u001b[1m\u001b[95m [2024-07-14 08:46:46][INFO]: == Starting Task: Based on the database/table schemas, generate a SQL query to answer the following question:\n",
      "Find the famous titles of artists that do not have any volume.\u001b[00m\n",
      "\n",
      "\n",
      "\u001b[1m> Entering new CrewAgentExecutor chain...\u001b[0m\n",
      "\u001b[32;1m\u001b[1;3mI now can give a great answer\n",
      "\n",
      "Final Answer:\n",
      "```sql\n",
      "SELECT DISTINCT a.Famous_Title\n",
      "FROM artist a\n",
      "LEFT JOIN volume v ON a.Artist_ID = v.Artist_ID\n",
      "WHERE v.Artist_ID IS NULL;\n",
      "```\u001b[0m\n",
      "\n",
      "\u001b[1m> Finished chain.\u001b[0m\n",
      "\u001b[1m\u001b[92m [2024-07-14 08:46:46][DEBUG]: == [Senior Database SQL query Writer] Task output: ```sql\n",
      "SELECT DISTINCT a.Famous_Title\n",
      "FROM artist a\n",
      "LEFT JOIN volume v ON a.Artist_ID = v.Artist_ID\n",
      "WHERE v.Artist_ID IS NULL;\n",
      "```\n",
      "\n",
      "\u001b[00m\n",
      "\u001b[1m\u001b[95m [2024-07-14 08:46:46][DEBUG]: == Working Agent: Senior Database SQL script Quality Assurance Engineer\u001b[00m\n",
      "\u001b[1m\u001b[95m [2024-07-14 08:46:46][INFO]: == Starting Task: Check the given sql query carefully, and refine the sql query if necessary to make it fulfill the needs of the following question:\n",
      "Find the famous titles of artists that do not have any volume.\u001b[00m\n",
      "\n",
      "\n",
      "\u001b[1m> Entering new CrewAgentExecutor chain...\u001b[0m\n",
      "\u001b[32;1m\u001b[1;3mI need to carefully analyze the given SQL query and refine it if necessary to fulfill the needs of the question. I should make sure that the query accurately retrieves the famous titles of artists that do not have any volume associated with them.\n",
      "\n",
      "Action: Ask question to coworker\n",
      "Action Input: {coworker: \"Senior Database SQL query Writer\", question: \"Does the current SQL query accurately retrieve the famous titles of artists that do not have any volume associated with them?\"}\u001b[0m\u001b[91m \n",
      "\n",
      "I encountered an error while trying to use the tool. This was the error: 1 validation error for Ask question to coworkerSchema\n",
      "context\n",
      "  field required (type=value_error.missing).\n",
      " Tool Ask question to coworker accepts these inputs: Ask a specific question to one of the following coworkers: [Assistant Search Engineer, Senior Database SQL query Writer]\n",
      "The input to this tool should be the coworker, the question you have for them, and ALL necessary context to ask the question properly, they know nothing about the question, so share absolute everything you know, don't reference things but instead explain them.\n",
      "\u001b[00m\n",
      "\u001b[32;1m\u001b[1;3mThought: I need to refine the given SQL query to accurately retrieve the famous titles of artists that do not have any volume associated with them.\n",
      "\n",
      "Action: Delegate work to coworker\n",
      "Action Input: {coworker: \"Senior Database SQL query Writer\", task: \"Refine the SQL query to accurately retrieve the famous titles of artists that do not have any volume associated with them\", context: \"I need to refine the given SQL query to fulfill the needs of the question.\"}\u001b[0m\n",
      "\n",
      "\u001b[1m> Entering new CrewAgentExecutor chain...\u001b[0m\n",
      "\u001b[32;1m\u001b[1;3mI now can give a great answer\n",
      "\n",
      "Final Answer:\n",
      "To accurately retrieve the famous titles of artists that do not have any volume associated with them, the SQL query can be refined as follows:\n",
      "\n",
      "```sql\n",
      "SELECT title\n",
      "FROM artists\n",
      "WHERE volume IS NULL\n",
      "AND fame = 'famous';\n",
      "```\u001b[0m\n",
      "\n",
      "\u001b[1m> Finished chain.\u001b[0m\n",
      "\u001b[95m \n",
      "\n",
      "To accurately retrieve the famous titles of artists that do not have any volume associated with them, the SQL query can be refined as follows:\n",
      "\n",
      "```sql\n",
      "SELECT title\n",
      "FROM artists\n",
      "WHERE volume IS NULL\n",
      "AND fame = 'famous';\n",
      "```\n",
      "\u001b[00m\n",
      "\u001b[32;1m\u001b[1;3mFinal Answer: \n",
      "```sql\n",
      "SELECT a.Famous_Title\n",
      "FROM artist a\n",
      "LEFT JOIN volume v ON a.Artist_ID = v.Artist_ID\n",
      "WHERE v.Artist_ID IS NULL;\n",
      "```\u001b[0m\n",
      "\n",
      "\u001b[1m> Finished chain.\u001b[0m\n",
      "\u001b[1m\u001b[92m [2024-07-14 08:46:51][DEBUG]: == [Senior Database SQL script Quality Assurance Engineer] Task output: ```sql\n",
      "SELECT a.Famous_Title\n",
      "FROM artist a\n",
      "LEFT JOIN volume v ON a.Artist_ID = v.Artist_ID\n",
      "WHERE v.Artist_ID IS NULL;\n",
      "```\n",
      "\n",
      "\u001b[00m\n"
     ]
    }
   ],
   "source": [
    "result = text2sql_crew.kickoff(inputs=text2sql_inputs)"
   ]
  },
  {
   "cell_type": "code",
   "execution_count": 10,
   "metadata": {},
   "outputs": [
    {
     "name": "stdout",
     "output_type": "stream",
     "text": [
      "```sql\n",
      "SELECT a.Famous_Title\n",
      "FROM artist a\n",
      "LEFT JOIN volume v ON a.Artist_ID = v.Artist_ID\n",
      "WHERE v.Artist_ID IS NULL;\n",
      "```\n"
     ]
    }
   ],
   "source": [
    "print(result)"
   ]
  },
  {
   "cell_type": "markdown",
   "metadata": {},
   "source": [
    "### Compare with gold result"
   ]
  },
  {
   "cell_type": "code",
   "execution_count": 11,
   "metadata": {},
   "outputs": [
    {
     "name": "stdout",
     "output_type": "stream",
     "text": [
      "[('Antievangelistical Process (re-release)',), ('Antithesis of All Flesh',)]\n"
     ]
    }
   ],
   "source": [
    "import sqlite3\n",
    "\n",
    "con = sqlite3.connect('spider/spider/database/music_4/music_4.sqlite')\n",
    "cursor = con.cursor()\n",
    "cursor.execute(\"\"\"SELECT a.Famous_Title\n",
    "FROM artist a\n",
    "LEFT JOIN volume v ON a.Artist_ID = v.Artist_ID\n",
    "WHERE v.Artist_ID IS NULL;\"\"\")\n",
    "results = cursor.fetchall()\n",
    "print(results)"
   ]
  },
  {
   "cell_type": "code",
   "execution_count": 13,
   "metadata": {},
   "outputs": [
    {
     "name": "stdout",
     "output_type": "stream",
     "text": [
      "[('Antievangelistical Process (re-release)',), ('Antithesis of All Flesh',)]\n"
     ]
    }
   ],
   "source": [
    "print(info['gold_result'])"
   ]
  }
 ],
 "metadata": {
  "kernelspec": {
   "display_name": "Python 3 (ipykernel)",
   "language": "python",
   "name": "python3"
  },
  "language_info": {
   "codemirror_mode": {
    "name": "ipython",
    "version": 3
   },
   "file_extension": ".py",
   "mimetype": "text/x-python",
   "name": "python",
   "nbconvert_exporter": "python",
   "pygments_lexer": "ipython3",
   "version": "3.12.2"
  }
 },
 "nbformat": 4,
 "nbformat_minor": 4
}
