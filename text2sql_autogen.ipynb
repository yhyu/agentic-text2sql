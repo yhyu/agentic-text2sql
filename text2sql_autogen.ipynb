{
 "cells": [
  {
   "cell_type": "code",
   "execution_count": 1,
   "metadata": {},
   "outputs": [],
   "source": [
    "import warnings\n",
    "warnings.filterwarnings('ignore')"
   ]
  },
  {
   "cell_type": "markdown",
   "metadata": {},
   "source": [
    "### Prepare LLM"
   ]
  },
  {
   "cell_type": "code",
   "execution_count": 2,
   "metadata": {},
   "outputs": [],
   "source": [
    "import json\n",
    "import os\n",
    "from typing import Annotated\n",
    "from autogen import ConversableAgent, initiate_chats\n",
    "from semantic_search_tools import SemanticSearchTool\n",
    "\n",
    "os.environ['OPENAI_API_KEY'] = 'your-openai-api-key'\n",
    "llm_config = {\"model\": \"gpt-3.5-turbo\"}\n",
    "\n",
    "db_schema_search_tool = SemanticSearchTool()"
   ]
  },
  {
   "cell_type": "markdown",
   "metadata": {},
   "source": [
    "### Prepare experiment data"
   ]
  },
  {
   "cell_type": "code",
   "execution_count": 3,
   "metadata": {},
   "outputs": [
    {
     "name": "stdout",
     "output_type": "stream",
     "text": [
      "Loading cached Spider dataset from spider\n",
      "Schema file not found for spider/spider/database/small_bank_1\n",
      "Schema file not found for spider/spider/database/icfp_1\n",
      "Schema file not found for spider/spider/database/epinions_1\n",
      "Schema file not found for spider/spider/database/flight_4\n",
      "Schema file not found for spider/spider/database/company_1\n",
      "Schema file not found for spider/spider/database/twitter_1\n",
      "Schema file not found for spider/spider/database/chinook_1\n",
      "question: Find the famous titles of artists that do not have any volume.\n",
      "gold query: SELECT Famous_Title FROM artist WHERE Artist_ID NOT IN(SELECT Artist_ID FROM volume)\n",
      "gold result: [('Antievangelistical Process (re-release)',), ('Antithesis of All Flesh',)]\n"
     ]
    }
   ],
   "source": [
    "from spider_env import SpiderEnv\n",
    "\n",
    "spider = SpiderEnv(cache_dir='spider')\n",
    "\n",
    "# select a random question in Spider\n",
    "observation, info = spider.reset()\n",
    "question = observation[\"instruction\"]\n",
    "print('question:', question)\n",
    "print('gold query:', info['gold_query'])\n",
    "print('gold result:', info['gold_result'])"
   ]
  },
  {
   "cell_type": "markdown",
   "metadata": {},
   "source": [
    "### Create Agents"
   ]
  },
  {
   "cell_type": "code",
   "execution_count": 4,
   "metadata": {},
   "outputs": [],
   "source": [
    "with open('agents/autogen.json') as f:\n",
    "    agent_config = json.load(f)\n",
    "\n",
    "search_agent = ConversableAgent(\n",
    "    **agent_config['assistant_dba'],\n",
    "    llm_config=llm_config,\n",
    "    human_input_mode='NEVER'\n",
    ")\n",
    "sql_writer_agent = ConversableAgent(\n",
    "    **agent_config['senior_sql_writer'],\n",
    "    llm_config=llm_config,\n",
    "    human_input_mode='NEVER'\n",
    ")\n",
    "qa_agent = ConversableAgent(\n",
    "    **agent_config['senior_qa_engineer'],\n",
    "    llm_config=llm_config,\n",
    "    human_input_mode='NEVER'\n",
    ")\n",
    "\n",
    "# user proxy\n",
    "user_proxy = ConversableAgent(\n",
    "    name=\"Admin\",\n",
    "    system_message=\"Give the question, and send instructions to SQL writer to generate a sql query script.\",\n",
    "    code_execution_config=False,\n",
    "    llm_config=llm_config,\n",
    "    human_input_mode='NEVER'\n",
    ")"
   ]
  },
  {
   "cell_type": "markdown",
   "metadata": {},
   "source": [
    "### Register Tools"
   ]
  },
  {
   "cell_type": "code",
   "execution_count": 5,
   "metadata": {},
   "outputs": [],
   "source": [
    "@search_agent.register_for_llm(description='Function for searching relevant database/table schemas')\n",
    "@user_proxy.register_for_execution()\n",
    "def semantic_search(\n",
    "    question: Annotated[str, 'A question'] \n",
    ") -> Annotated[str, 'Result of relevant table schemas to answer the input question']:\n",
    "    return db_schema_search_tool(question)"
   ]
  },
  {
   "cell_type": "markdown",
   "metadata": {},
   "source": [
    "### Prepare SequenceChat"
   ]
  },
  {
   "cell_type": "code",
   "execution_count": 6,
   "metadata": {},
   "outputs": [],
   "source": [
    "chats = [\n",
    "    {\n",
    "        \"sender\": user_proxy,\n",
    "        \"recipient\": search_agent,\n",
    "        \"message\": f'Generate a SQL query script to answer the question: {question}',\n",
    "        \"summary_method\": \"reflection_with_llm\",\n",
    "        \"max_turns\": 2,\n",
    "        \"clear_history\" : True\n",
    "    },\n",
    "    {\n",
    "        \"sender\": search_agent,\n",
    "        \"recipient\": sql_writer_agent,\n",
    "        \"message\": f'Based on the table schemas, write a SQL query script to answer the question: {question}',\n",
    "        \"summary_method\": \"reflection_with_llm\",\n",
    "        \"summary_args\": {\n",
    "            \"summary_prompt\" : \"Return the target database and SQL query script into as JSON object only, DO NOT explain reason: \"\n",
    "                             \"{'database': '', 'sql': ''}\",\n",
    "        },\n",
    "        \"max_turns\": 1,\n",
    "        \"clear_history\" : False\n",
    "    },\n",
    "    {\n",
    "        \"sender\": sql_writer_agent,\n",
    "        \"recipient\": qa_agent,\n",
    "        \"message\": f'Review the SQL query script to be sure it can answer the question: {question}',\n",
    "        \"max_turns\": 1,\n",
    "        \"summary_method\": \"reflection_with_llm\",\n",
    "        \"summary_args\": {\n",
    "            \"summary_prompt\" : \"If the SQL query script has to be adjusted. Fix the SQL query script.\"\n",
    "                             \"Return the target database and SQL query script into as JSON object only, DO NOT explain reason: \"\n",
    "                             \"{'database': '', 'sql': ''}\",\n",
    "        },\n",
    "    },\n",
    "]"
   ]
  },
  {
   "cell_type": "markdown",
   "metadata": {},
   "source": [
    "### Initiate Chat"
   ]
  },
  {
   "cell_type": "code",
   "execution_count": 7,
   "metadata": {},
   "outputs": [
    {
     "name": "stdout",
     "output_type": "stream",
     "text": [
      "\u001b[34m\n",
      "********************************************************************************\u001b[0m\n",
      "\u001b[34mStarting a new chat....\u001b[0m\n",
      "\u001b[34m\n",
      "********************************************************************************\u001b[0m\n",
      "\u001b[33mAdmin\u001b[0m (to Assistant_Search_Engineer):\n",
      "\n",
      "Generate a SQL query script to answer the question: Find the famous titles of artists that do not have any volume.\n",
      "\n",
      "--------------------------------------------------------------------------------\n",
      "\u001b[33mAssistant_Search_Engineer\u001b[0m (to Admin):\n",
      "\n",
      "\u001b[32m***** Suggested tool call (call_tnPSAxCmqmLj0vClrrdXudgJ): semantic_search *****\u001b[0m\n",
      "Arguments: \n",
      "{\"question\":\"famous titles of artists that do not have any volume\"}\n",
      "\u001b[32m********************************************************************************\u001b[0m\n",
      "\n",
      "--------------------------------------------------------------------------------\n",
      "\u001b[35m\n",
      ">>>>>>>> EXECUTING FUNCTION semantic_search...\u001b[0m\n",
      "\u001b[33mAdmin\u001b[0m (to Assistant_Search_Engineer):\n",
      "\n",
      "\u001b[33mAdmin\u001b[0m (to Assistant_Search_Engineer):\n",
      "\n",
      "\u001b[32m***** Response from calling tool (call_tnPSAxCmqmLj0vClrrdXudgJ) *****\u001b[0m\n",
      "{\"database\": \"theme_gallery\", \"table\": \"artist\", \"schema\": \"CREATE TABLE \\\"artist\\\" (\\n\\\"Artist_ID\\\" int,\\n\\\"Name\\\" text,\\n\\\"Country\\\" text,\\n\\\"Year_Join\\\" int,\\n\\\"Age\\\" int,\\nPRIMARY KEY (\\\"Artist_ID\\\")\\n)\"}\n",
      "\n",
      "{\"database\": \"music_4\", \"table\": \"artist\", \"schema\": \"CREATE TABLE \\\"artist\\\" (\\n\\\"Artist_ID\\\" int,\\n\\\"Artist\\\" text,\\n\\\"Age\\\" int,\\n\\\"Famous_Title\\\" text,\\n\\\"Famous_Release_date\\\" text,\\nPRIMARY KEY (\\\"Artist_ID\\\")\\n)\"}\n",
      "\n",
      "{\"database\": \"music_4\", \"table\": \"volume\", \"schema\": \"CREATE TABLE \\\"volume\\\" (\\n\\\"Volume_ID\\\" int,\\n\\\"Volume_Issue\\\" text,\\n\\\"Issue_Date\\\" text,\\n\\\"Weeks_on_Top\\\" real,\\n\\\"Song\\\" text,\\n\\\"Artist_ID\\\" int,\\nPRIMARY KEY (\\\"Volume_ID\\\"),\\nFOREIGN KEY (`Artist_ID`) REFERENCES `artist`(`Artist_ID`)\\n)\"}\n",
      "\n",
      "{\"database\": \"chinook_1\", \"table\": \"Album\", \"schema\": \"CREATE TABLE `Album` (\\n  `AlbumId` integer NOT NULL\\n,  `Title` varchar(160) NOT NULL\\n,  `ArtistId` integer NOT NULL\\n,  PRIMARY KEY (`AlbumId`)\\n,  CONSTRAINT `FK_AlbumArtistId` FOREIGN KEY (`ArtistId`) REFERENCES `Artist` (`ArtistId`) ON DELETE NO ACTION ON UPDATE NO ACTION\\n)\"}\n",
      "\n",
      "{\"database\": \"chinook_1\", \"table\": \"Artist\", \"schema\": \"CREATE TABLE `Artist` (\\n  `ArtistId` integer NOT NULL\\n,  `Name` varchar(120) DEFAULT NULL\\n,  PRIMARY KEY (`ArtistId`)\\n)\"}\n",
      "\n",
      "{\"database\": \"music_1\", \"table\": \"artist\", \"schema\": \"CREATE TABLE artist(\\n\\tartist_name varchar2(50) not null,\\n\\tcountry varchar2(20),\\n\\tgender varchar2(20),\\n\\tpreferred_genre varchar2(50),\\n\\tconstraint a_name primary key(artist_name),\\n\\tforeign key(preferred_genre) references genre(g_name) ON DELETE CASCADE\\n)\"}\n",
      "\n",
      "{\"database\": \"store_1\", \"table\": \"albums\", \"schema\": \"CREATE TABLE albums\\n(\\nid INTEGER PRIMARY KEY AUTOINCREMENT,\\ntitle VARCHAR(160)  NOT NULL,\\nartist_id INTEGER  NOT NULL,\\nFOREIGN KEY (artist_id) REFERENCES artists (id)\\nON DELETE NO ACTION ON UPDATE NO ACTION\\n)\"}\n",
      "\n",
      "{\"database\": \"store_1\", \"table\": \"artists\", \"schema\": \"CREATE TABLE artists\\n(\\nid INTEGER PRIMARY KEY AUTOINCREMENT,\\nname VARCHAR(120)\\n)\"}\n",
      "\n",
      "{\"database\": \"singer\", \"table\": \"singer\", \"schema\": \"CREATE TABLE \\\"singer\\\" (\\n\\\"Singer_ID\\\" int,\\n\\\"Name\\\" text,\\n\\\"Birth_Year\\\" real,\\n\\\"Net_Worth_Millions\\\" real,\\n\\\"Citizenship\\\" text,\\nPRIMARY KEY (\\\"Singer_ID\\\")\\n)\"}\n",
      "\n",
      "{\"database\": \"chinook_1\", \"table\": \"Track\", \"schema\": \"CREATE TABLE `Track` (\\n  `TrackId` integer NOT NULL\\n,  `Name` varchar(200) NOT NULL\\n,  `AlbumId` integer DEFAULT NULL\\n,  `MediaTypeId` integer NOT NULL\\n,  `GenreId` integer DEFAULT NULL\\n,  `Composer` varchar(220) DEFAULT NULL\\n,  `Milliseconds` integer NOT NULL\\n,  `Bytes` integer DEFAULT NULL\\n,  `UnitPrice` decimal(10,2) NOT NULL\\n,  PRIMARY KEY (`TrackId`)\\n,  CONSTRAINT `FK_TrackAlbumId` FOREIGN KEY (`AlbumId`) REFERENCES `Album` (`AlbumId`) ON DELETE NO ACTION ON UPDATE NO ACTION\\n,  CONSTRAINT `FK_TrackGenreId` FOREIGN KEY (`GenreId`) REFERENCES `Genre` (`GenreId`) ON DELETE NO ACTION ON UPDATE NO ACTION\\n,  CONSTRAINT `FK_TrackMediaTypeId` FOREIGN KEY (`MediaTypeId`) REFERENCES `MediaType` (`MediaTypeId`) ON DELETE NO ACTION ON UPDATE NO ACTION\\n)\"}\n",
      "\n",
      "\u001b[32m**********************************************************************\u001b[0m\n",
      "\n",
      "--------------------------------------------------------------------------------\n",
      "\u001b[33mAssistant_Search_Engineer\u001b[0m (to Admin):\n",
      "\n",
      "The relevant table schemas for finding the famous titles of artists that do not have any volume are:\n",
      "\n",
      "1. Database: music_4\n",
      "   Table: artist\n",
      "   Schema:\n",
      "   ```sql\n",
      "   CREATE TABLE \"artist\" (\n",
      "   \"Artist_ID\" int,\n",
      "   \"Artist\" text,\n",
      "   \"Age\" int,\n",
      "   \"Famous_Title\" text,\n",
      "   \"Famous_Release_date\" text,\n",
      "   PRIMARY KEY (\"Artist_ID\")\n",
      "   )\n",
      "   ```\n",
      "\n",
      "2. Database: music_4\n",
      "   Table: volume\n",
      "   Schema:\n",
      "   ```sql\n",
      "   CREATE TABLE \"volume\" (\n",
      "   \"Volume_ID\" int,\n",
      "   \"Volume_Issue\" text,\n",
      "   \"Issue_Date\" text,\n",
      "   \"Weeks_on_Top\" real,\n",
      "   \"Song\" text,\n",
      "   \"Artist_ID\" int,\n",
      "   PRIMARY KEY (\"Volume_ID\"),\n",
      "   FOREIGN KEY (`Artist_ID`) REFERENCES `artist`(`Artist_ID`)\n",
      "   )\n",
      "   ```\n",
      "\n",
      "These tables can be used to write a SQL query script to find the famous titles of artists that do not have any volume.\n",
      "\n",
      "--------------------------------------------------------------------------------\n",
      "\u001b[34m\n",
      "********************************************************************************\u001b[0m\n",
      "\u001b[34mStarting a new chat....\u001b[0m\n",
      "\u001b[34m\n",
      "********************************************************************************\u001b[0m\n",
      "\u001b[33mAssistant_Search_Engineer\u001b[0m (to Senior_Database_SQL_query_Writer):\n",
      "\n",
      "Based on the table schemas, write a SQL query script to answer the question: Find the famous titles of artists that do not have any volume.\n",
      "Context: \n",
      "The relevant table schemas for finding the famous titles of artists that do not have any volume are from the \"music_4\" database. The \"artist\" table contains information about artists including their famous titles, and the \"volume\" table contains information about volumes with references to artists. These tables can be used to write a SQL query to find the famous titles of artists without any volume.\n",
      "\n",
      "--------------------------------------------------------------------------------\n",
      "\u001b[33mSenior_Database_SQL_query_Writer\u001b[0m (to Assistant_Search_Engineer):\n",
      "\n",
      "Sure, here is the SQL query script that can be used to find the famous titles of artists that do not have any volume:\n",
      "\n",
      "```sql\n",
      "SELECT a.famous_title\n",
      "FROM artist a\n",
      "LEFT JOIN volume v ON a.artist_id = v.artist_id\n",
      "WHERE v.artist_id IS NULL\n",
      "```\n",
      "\n",
      "In this query:\n",
      "1. We are selecting the famous_title column from the artist table.\n",
      "2. We are performing a LEFT JOIN between the artist table and the volume table on the artist_id column.\n",
      "3. We are filtering the result to only include rows where the artist does not have any corresponding row in the volume table (v.artist_id IS NULL).\n",
      "\n",
      "This query will return the famous titles of artists that do not have any volume associated with them.\n",
      "\n",
      "--------------------------------------------------------------------------------\n",
      "\u001b[34m\n",
      "********************************************************************************\u001b[0m\n",
      "\u001b[34mStarting a new chat....\u001b[0m\n",
      "\u001b[34m\n",
      "********************************************************************************\u001b[0m\n",
      "\u001b[33mSenior_Database_SQL_query_Writer\u001b[0m (to Senior_Database_SQL_script_Quality_Assurance_Engineer):\n",
      "\n",
      "Review the SQL query script to be sure it can answer the question: Find the famous titles of artists that do not have any volume.\n",
      "Context: \n",
      "The relevant table schemas for finding the famous titles of artists that do not have any volume are from the \"music_4\" database. The \"artist\" table contains information about artists including their famous titles, and the \"volume\" table contains information about volumes with references to artists. These tables can be used to write a SQL query to find the famous titles of artists without any volume.\n",
      "{'database': 'music_4', 'sql': 'SELECT a.famous_title FROM artist a LEFT JOIN volume v ON a.artist_id = v.artist_id WHERE v.artist_id IS NULL'}\n",
      "\n",
      "--------------------------------------------------------------------------------\n",
      "\u001b[33mSenior_Database_SQL_script_Quality_Assurance_Engineer\u001b[0m (to Senior_Database_SQL_query_Writer):\n",
      "\n",
      "The SQL query appears to be designed to find the famous titles of artists that do not have any volume. Here are some suggestions and potential issues to consider for improvement:\n",
      "\n",
      "1. Check Table Names and Schema: Ensure that the table names and column names used in the query match the actual schemas of the \"artist\" and \"volume\" tables in the \"music_4\" database. Verify that \"famous_title\" and \"artist_id\" are valid columns in the correct tables.\n",
      "\n",
      "2. Aliasing: Using aliases like \"a\" for \"artist\" and \"v\" for \"volume\" is a good practice to make the query more readable. Just ensure that these aliases are consistent with the actual table names.\n",
      "\n",
      "3. Join Type: The LEFT JOIN used in the query is appropriate for this scenario as it will include records from the \"artist\" table even if there are no matching records in the \"volume\" table. However, make sure that the join condition \"a.artist_id = v.artist_id\" is correct based on the table schemas.\n",
      "\n",
      "4. WHERE Condition: The condition \"v.artist_id IS NULL\" in the WHERE clause is correct for filtering out artists that do not have any volume associated with them. Double-check that this condition accurately identifies such cases.\n",
      "\n",
      "5. Test the Query: Before running the query in the database, it's advisable to test it with sample data to ensure it produces the expected results. This can help identify any potential logic errors or issues.\n",
      "\n",
      "Overall, the query seems on the right track for identifying famous titles of artists without any volume entries. Make sure to verify the table schemas, column names, and data to ensure the query functions as intended.\n",
      "\n",
      "--------------------------------------------------------------------------------\n"
     ]
    }
   ],
   "source": [
    "chat_results = initiate_chats(chats)"
   ]
  },
  {
   "cell_type": "code",
   "execution_count": 8,
   "metadata": {},
   "outputs": [
    {
     "name": "stdout",
     "output_type": "stream",
     "text": [
      "{'database': 'music_4', 'sql': 'SELECT a.famous_title FROM artist a LEFT JOIN volume v ON a.artist_id = v.artist_id WHERE v.artist_id IS NULL'}\n"
     ]
    }
   ],
   "source": [
    "print(chat_results[-1].summary)"
   ]
  },
  {
   "cell_type": "markdown",
   "metadata": {},
   "source": [
    "### Compare with gold result"
   ]
  },
  {
   "cell_type": "code",
   "execution_count": 9,
   "metadata": {},
   "outputs": [
    {
     "name": "stdout",
     "output_type": "stream",
     "text": [
      "[('Antievangelistical Process (re-release)',), ('Antithesis of All Flesh',)]\n"
     ]
    }
   ],
   "source": [
    "import sqlite3\n",
    "\n",
    "con = sqlite3.connect('spider/spider/database/music_4/music_4.sqlite')\n",
    "cursor = con.cursor()\n",
    "cursor.execute('SELECT a.famous_title FROM artist a LEFT JOIN volume v ON a.artist_id = v.artist_id WHERE v.artist_id IS NULL')\n",
    "results = cursor.fetchall()\n",
    "print(results)"
   ]
  },
  {
   "cell_type": "code",
   "execution_count": 10,
   "metadata": {},
   "outputs": [
    {
     "name": "stdout",
     "output_type": "stream",
     "text": [
      "[('Antievangelistical Process (re-release)',), ('Antithesis of All Flesh',)]\n"
     ]
    }
   ],
   "source": [
    "print(info['gold_result'])"
   ]
  }
 ],
 "metadata": {
  "kernelspec": {
   "display_name": "Python 3 (ipykernel)",
   "language": "python",
   "name": "python3"
  },
  "language_info": {
   "codemirror_mode": {
    "name": "ipython",
    "version": 3
   },
   "file_extension": ".py",
   "mimetype": "text/x-python",
   "name": "python",
   "nbconvert_exporter": "python",
   "pygments_lexer": "ipython3",
   "version": "3.12.4"
  }
 },
 "nbformat": 4,
 "nbformat_minor": 4
}
