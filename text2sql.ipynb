{
 "cells": [
  {
   "cell_type": "code",
   "execution_count": 1,
   "metadata": {},
   "outputs": [],
   "source": [
    "import warnings\n",
    "warnings.filterwarnings('ignore')"
   ]
  },
  {
   "cell_type": "markdown",
   "metadata": {},
   "source": [
    "### Prepare LLM"
   ]
  },
  {
   "cell_type": "code",
   "execution_count": 2,
   "metadata": {},
   "outputs": [],
   "source": [
    "import json\n",
    "import os\n",
    "from crewai import Agent, Task, Crew\n",
    "from semantic_search_tools import SemanticSearchTool\n",
    "\n",
    "os.environ['OPENAI_API_KEY'] = 'your-openai-api-key'\n",
    "os.environ[\"OPENAI_MODEL_NAME\"] = 'gpt-3.5-turbo'\n",
    "\n",
    "db_schema_search_tool = SemanticSearchTool(n_results=10)"
   ]
  },
  {
   "cell_type": "markdown",
   "metadata": {},
   "source": [
    "### Prepare experiment data"
   ]
  },
  {
   "cell_type": "code",
   "execution_count": 3,
   "metadata": {},
   "outputs": [
    {
     "name": "stdout",
     "output_type": "stream",
     "text": [
      "Loading cached Spider dataset from /Users/bearpig/.cache/spider\n",
      "Schema file not found for /Users/bearpig/.cache/spider/spider/database/icfp_1\n",
      "Schema file not found for /Users/bearpig/.cache/spider/spider/database/small_bank_1\n",
      "Schema file not found for /Users/bearpig/.cache/spider/spider/database/epinions_1\n",
      "Schema file not found for /Users/bearpig/.cache/spider/spider/database/company_1\n",
      "Schema file not found for /Users/bearpig/.cache/spider/spider/database/flight_4\n",
      "Schema file not found for /Users/bearpig/.cache/spider/spider/database/chinook_1\n",
      "Schema file not found for /Users/bearpig/.cache/spider/spider/database/twitter_1\n",
      "question: Find the famous titles of artists that do not have any volume.\n",
      "gold query: SELECT Famous_Title FROM artist WHERE Artist_ID NOT IN(SELECT Artist_ID FROM volume)\n",
      "gold result: [('Antievangelistical Process (re-release)',), ('Antithesis of All Flesh',)]\n"
     ]
    }
   ],
   "source": [
    "from spider_env import SpiderEnv\n",
    "\n",
    "spider = SpiderEnv()\n",
    "\n",
    "# select a random question in Spider\n",
    "observation, info = spider.reset()\n",
    "question = observation[\"instruction\"]\n",
    "print('question:', question)\n",
    "print('gold query:', info['gold_query'])\n",
    "print('gold result:', info['gold_result'])"
   ]
  },
  {
   "cell_type": "markdown",
   "metadata": {},
   "source": [
    "### Create Agents"
   ]
  },
  {
   "cell_type": "code",
   "execution_count": 4,
   "metadata": {},
   "outputs": [],
   "source": [
    "with open('agents.json') as f:\n",
    "    agent_config = json.load(f)\n",
    "\n",
    "search_agent = Agent(**agent_config['assistant_dba'], tools=[db_schema_search_tool])\n",
    "sql_writer_agent = Agent(**agent_config['senior_sql_writer'])\n",
    "qa_agent = Agent(**agent_config['senior_qa_engineer'])\n",
    "dba_agent = Agent(**agent_config['chief_dba'])"
   ]
  },
  {
   "cell_type": "markdown",
   "metadata": {},
   "source": [
    "### Create Tasks"
   ]
  },
  {
   "cell_type": "code",
   "execution_count": 5,
   "metadata": {},
   "outputs": [],
   "source": [
    "search_task = Task(\n",
    "    description='Using search tools to find related database/table candidates, and consolidate all relevant tables that belong the same database for information needed to answer the following question:\\n{question}',\n",
    "    expected_output=\"Return relevant database and tables' schema.\",\n",
    "    agent=search_agent,\n",
    "    tools=[db_schema_search_tool]\n",
    ")\n",
    "sql_writer_task = Task(\n",
    "    description='Based on the searched database/table schemas, generate a SQL query to answer the following question:\\n{question}',\n",
    "    expected_output='MUST BE ONLY a valid databse sql script.',\n",
    "    agent=sql_writer_agent\n",
    ")\n",
    "qa_task = Task(\n",
    "    description='Check the given sql query carefully, and refine the sql query to make it fulfill the needs of the following question:\\n{question}',\n",
    "    expected_output='The refined sql query. MUST BE ONLY a valid databse sql script.',\n",
    "    agent=qa_agent,\n",
    "    context=[search_task]\n",
    ")\n",
    "dba_task = Task(\n",
    "    description='You will look over the sql query to insure that it is complete and does the job that it is supposed to do which is generating a SQL query to answer the following question:\\n{question}',\n",
    "    expected_output='The final sql query. MUST BE ONLY a valid databse sql script and its database name.',\n",
    "    agent=dba_agent,\n",
    "    context=[search_task]\n",
    ")"
   ]
  },
  {
   "cell_type": "markdown",
   "metadata": {},
   "source": [
    "### set-up a Crew"
   ]
  },
  {
   "cell_type": "code",
   "execution_count": 6,
   "metadata": {},
   "outputs": [],
   "source": [
    "text2sql_crew = Crew(\n",
    "    agents=[\n",
    "        search_agent,\n",
    "        sql_writer_agent,\n",
    "        qa_agent,\n",
    "        dba_agent\n",
    "    ],\n",
    "    tasks=[\n",
    "        search_task,\n",
    "        sql_writer_task,\n",
    "        qa_task,\n",
    "        dba_task\n",
    "    ],\n",
    "    verbose=True\n",
    ")"
   ]
  },
  {
   "cell_type": "markdown",
   "metadata": {},
   "source": [
    "### Prepare inputs (question)"
   ]
  },
  {
   "cell_type": "code",
   "execution_count": 7,
   "metadata": {},
   "outputs": [],
   "source": [
    "text2sql_inputs = {\n",
    "    'question': question\n",
    "}"
   ]
  },
  {
   "cell_type": "markdown",
   "metadata": {},
   "source": [
    "### Kickoff crew actions"
   ]
  },
  {
   "cell_type": "code",
   "execution_count": 8,
   "metadata": {},
   "outputs": [
    {
     "name": "stdout",
     "output_type": "stream",
     "text": [
      "\u001b[1m\u001b[93m [DEBUG]: == Working Agent: Assistant Search Engineer\u001b[00m\n",
      "\u001b[1m\u001b[93m [INFO]: == Starting Task: Using search tools to find related database/table candidates, and consolidate all relevant tables that belong the same database for information needed to answer the following question:\n",
      "Find the famous titles of artists that do not have any volume.\u001b[00m\n",
      "\n",
      "\n",
      "\u001b[1m> Entering new CrewAgentExecutor chain...\u001b[0m\n",
      "\u001b[32;1m\u001b[1;3mI should start by using the search database and table schemas tool to find relevant databases and tables related to famous titles of artists without any volume.\n",
      "\n",
      "Action: Search database and table schemas tool\n",
      "Action Input: {\"question\": \"famous titles of artists without any volume\"}\u001b[0m\u001b[93m \n",
      "\n",
      "{\"database\": \"theme_gallery\", \"table\": \"artist\", \"schema\": \"CREATE TABLE \\\"artist\\\" (\\n\\\"Artist_ID\\\" int,\\n\\\"Name\\\" text,\\n\\\"Country\\\" text,\\n\\\"Year_Join\\\" int,\\n\\\"Age\\\" int,\\nPRIMARY KEY (\\\"Artist_ID\\\")\\n)\"}\n",
      "\n",
      "{\"database\": \"music_4\", \"table\": \"artist\", \"schema\": \"CREATE TABLE \\\"artist\\\" (\\n\\\"Artist_ID\\\" int,\\n\\\"Artist\\\" text,\\n\\\"Age\\\" int,\\n\\\"Famous_Title\\\" text,\\n\\\"Famous_Release_date\\\" text,\\nPRIMARY KEY (\\\"Artist_ID\\\")\\n)\"}\n",
      "\n",
      "{\"database\": \"chinook_1\", \"table\": \"Artist\", \"schema\": \"CREATE TABLE `Artist` (\\n  `ArtistId` integer NOT NULL\\n,  `Name` varchar(120) DEFAULT NULL\\n,  PRIMARY KEY (`ArtistId`)\\n)\"}\n",
      "\n",
      "{\"database\": \"chinook_1\", \"table\": \"Album\", \"schema\": \"CREATE TABLE `Album` (\\n  `AlbumId` integer NOT NULL\\n,  `Title` varchar(160) NOT NULL\\n,  `ArtistId` integer NOT NULL\\n,  PRIMARY KEY (`AlbumId`)\\n,  CONSTRAINT `FK_AlbumArtistId` FOREIGN KEY (`ArtistId`) REFERENCES `Artist` (`ArtistId`) ON DELETE NO ACTION ON UPDATE NO ACTION\\n)\"}\n",
      "\n",
      "{\"database\": \"music_4\", \"table\": \"volume\", \"schema\": \"CREATE TABLE \\\"volume\\\" (\\n\\\"Volume_ID\\\" int,\\n\\\"Volume_Issue\\\" text,\\n\\\"Issue_Date\\\" text,\\n\\\"Weeks_on_Top\\\" real,\\n\\\"Song\\\" text,\\n\\\"Artist_ID\\\" int,\\nPRIMARY KEY (\\\"Volume_ID\\\"),\\nFOREIGN KEY (`Artist_ID`) REFERENCES `artist`(`Artist_ID`)\\n)\"}\n",
      "\n",
      "{\"database\": \"store_1\", \"table\": \"artists\", \"schema\": \"CREATE TABLE artists\\n(\\nid INTEGER PRIMARY KEY AUTOINCREMENT,\\nname VARCHAR(120)\\n)\"}\n",
      "\n",
      "{\"database\": \"music_1\", \"table\": \"artist\", \"schema\": \"CREATE TABLE artist(\\n\\tartist_name varchar2(50) not null,\\n\\tcountry varchar2(20),\\n\\tgender varchar2(20),\\n\\tpreferred_genre varchar2(50),\\n\\tconstraint a_name primary key(artist_name),\\n\\tforeign key(preferred_genre) references genre(g_name) ON DELETE CASCADE\\n)\"}\n",
      "\n",
      "{\"database\": \"entertainment_awards\", \"table\": \"artwork\", \"schema\": \"CREATE TABLE artwork (\\n\\\"Artwork_ID\\\" int,\\n\\\"Type\\\" text,\\n\\\"Name\\\" text,\\nPRIMARY KEY (\\\"Artwork_ID\\\")\\n)\"}\n",
      "\n",
      "{\"database\": \"store_1\", \"table\": \"albums\", \"schema\": \"CREATE TABLE albums\\n(\\nid INTEGER PRIMARY KEY AUTOINCREMENT,\\ntitle VARCHAR(160)  NOT NULL,\\nartist_id INTEGER  NOT NULL,\\nFOREIGN KEY (artist_id) REFERENCES artists (id)\\nON DELETE NO ACTION ON UPDATE NO ACTION\\n)\"}\n",
      "\n",
      "{\"database\": \"singer\", \"table\": \"singer\", \"schema\": \"CREATE TABLE \\\"singer\\\" (\\n\\\"Singer_ID\\\" int,\\n\\\"Name\\\" text,\\n\\\"Birth_Year\\\" real,\\n\\\"Net_Worth_Millions\\\" real,\\n\\\"Citizenship\\\" text,\\nPRIMARY KEY (\\\"Singer_ID\\\")\\n)\"}\n",
      "\n",
      "\u001b[00m\n",
      "\u001b[32;1m\u001b[1;3mFinal Answer: \n",
      "From the search results, the relevant databases and tables related to famous titles of artists without any volume are:\n",
      "\n",
      "1. Database: music_4\n",
      "   Table: artist\n",
      "   Schema: \n",
      "   CREATE TABLE \"artist\" (\n",
      "   \"Artist_ID\" int,\n",
      "   \"Artist\" text,\n",
      "   \"Age\" int,\n",
      "   \"Famous_Title\" text,\n",
      "   \"Famous_Release_date\" text,\n",
      "   PRIMARY KEY (\"Artist_ID\")\n",
      "   )\n",
      "\n",
      "2. Database: music_4\n",
      "   Table: volume\n",
      "   Schema: \n",
      "   CREATE TABLE \"volume\" (\n",
      "   \"Volume_ID\" int,\n",
      "   \"Volume_Issue\" text,\n",
      "   \"Issue_Date\" text,\n",
      "   \"Weeks_on_Top\" real,\n",
      "   \"Song\" text,\n",
      "   \"Artist_ID\" int,\n",
      "   PRIMARY KEY (\"Volume_ID\"),\n",
      "   FOREIGN KEY (`Artist_ID`) REFERENCES `artist`(`Artist_ID`)\n",
      "   )\u001b[0m\n",
      "\n",
      "\u001b[1m> Finished chain.\u001b[0m\n",
      "\u001b[1m\u001b[92m [DEBUG]: == [Assistant Search Engineer] Task output: From the search results, the relevant databases and tables related to famous titles of artists without any volume are:\n",
      "\n",
      "1. Database: music_4\n",
      "   Table: artist\n",
      "   Schema: \n",
      "   CREATE TABLE \"artist\" (\n",
      "   \"Artist_ID\" int,\n",
      "   \"Artist\" text,\n",
      "   \"Age\" int,\n",
      "   \"Famous_Title\" text,\n",
      "   \"Famous_Release_date\" text,\n",
      "   PRIMARY KEY (\"Artist_ID\")\n",
      "   )\n",
      "\n",
      "2. Database: music_4\n",
      "   Table: volume\n",
      "   Schema: \n",
      "   CREATE TABLE \"volume\" (\n",
      "   \"Volume_ID\" int,\n",
      "   \"Volume_Issue\" text,\n",
      "   \"Issue_Date\" text,\n",
      "   \"Weeks_on_Top\" real,\n",
      "   \"Song\" text,\n",
      "   \"Artist_ID\" int,\n",
      "   PRIMARY KEY (\"Volume_ID\"),\n",
      "   FOREIGN KEY (`Artist_ID`) REFERENCES `artist`(`Artist_ID`)\n",
      "   )\n",
      "\n",
      "\u001b[00m\n",
      "\u001b[1m\u001b[93m [DEBUG]: == Working Agent: Senior Database SQL query Writer\u001b[00m\n",
      "\u001b[1m\u001b[93m [INFO]: == Starting Task: Based on the searched database/table schemas, generate a SQL query to answer the following question:\n",
      "Find the famous titles of artists that do not have any volume.\u001b[00m\n",
      "\n",
      "\n",
      "\u001b[1m> Entering new CrewAgentExecutor chain...\u001b[0m\n",
      "\u001b[32;1m\u001b[1;3mI now can give a great answer\n",
      "\n",
      "Final Answer:\n",
      "```sql\n",
      "SELECT DISTINCT a.Famous_Title\n",
      "FROM artist a\n",
      "LEFT JOIN volume v ON a.Artist_ID = v.Artist_ID\n",
      "WHERE v.Volume_ID IS NULL;\n",
      "```\u001b[0m\n",
      "\n",
      "\u001b[1m> Finished chain.\u001b[0m\n",
      "\u001b[1m\u001b[92m [DEBUG]: == [Senior Database SQL query Writer] Task output: ```sql\n",
      "SELECT DISTINCT a.Famous_Title\n",
      "FROM artist a\n",
      "LEFT JOIN volume v ON a.Artist_ID = v.Artist_ID\n",
      "WHERE v.Volume_ID IS NULL;\n",
      "```\n",
      "\n",
      "\u001b[00m\n",
      "\u001b[1m\u001b[93m [DEBUG]: == Working Agent: Senior Database SQL script Quality Control Engineer\u001b[00m\n",
      "\u001b[1m\u001b[93m [INFO]: == Starting Task: Check the given sql query carefully, and refine the sql query to make it fulfill the needs of the following question:\n",
      "Find the famous titles of artists that do not have any volume.\u001b[00m\n",
      "\n",
      "\n",
      "\u001b[1m> Entering new CrewAgentExecutor chain...\u001b[0m\n",
      "\u001b[32;1m\u001b[1;3mI need to carefully analyze the given SQL query to refine it to meet the criteria of finding famous titles of artists that do not have any volume. I need to pay attention to any missing data fields, mismatched table schemas, syntax errors, and logic errors.\n",
      "\n",
      "Action: Delegate work to co-worker\n",
      "Action Input: {\n",
      "    \"coworker\": \"Senior Database SQL query Writer\",\n",
      "    \"task\": \"Refine the SQL query to find famous titles of artists that do not have any volume\",\n",
      "    \"context\": \"The relevant databases and tables related to famous titles of artists without any volume are provided: Database music_4 with tables artist and volume, along with their schemas.\"\n",
      "}\u001b[0m\n",
      "\n",
      "\u001b[1m> Entering new CrewAgentExecutor chain...\u001b[0m\n",
      "\u001b[32;1m\u001b[1;3mI now can give a great answer\n",
      "\n",
      "Final Answer: \n",
      "\n",
      "Sure, here is the refined SQL query to find famous titles of artists that do not have any volume:\n",
      "\n",
      "```sql\n",
      "SELECT artist.artist_name, artist.title\n",
      "FROM artist\n",
      "LEFT JOIN volume ON artist.artist_id = volume.artist_id\n",
      "WHERE volume.volume IS NULL\n",
      "AND artist.famous = 1;\n",
      "```\n",
      "\n",
      "This query will return the artist names and titles of the famous artists that do not have any associated volume records in the database music_4.\u001b[0m\n",
      "\n",
      "\u001b[1m> Finished chain.\u001b[0m\n",
      "\u001b[93m \n",
      "\n",
      "Sure, here is the refined SQL query to find famous titles of artists that do not have any volume:\n",
      "\n",
      "```sql\n",
      "SELECT artist.artist_name, artist.title\n",
      "FROM artist\n",
      "LEFT JOIN volume ON artist.artist_id = volume.artist_id\n",
      "WHERE volume.volume IS NULL\n",
      "AND artist.famous = 1;\n",
      "```\n",
      "\n",
      "This query will return the artist names and titles of the famous artists that do not have any associated volume records in the database music_4.\n",
      "\u001b[00m\n",
      "\u001b[32;1m\u001b[1;3mFinal Answer: \n",
      "```sql\n",
      "SELECT artist.artist_name, artist.title\n",
      "FROM artist\n",
      "LEFT JOIN volume ON artist.artist_id = volume.artist_id\n",
      "WHERE volume.volume IS NULL\n",
      "AND artist.famous = 1;\n",
      "```\u001b[0m\n",
      "\n",
      "\u001b[1m> Finished chain.\u001b[0m\n",
      "\u001b[1m\u001b[92m [DEBUG]: == [Senior Database SQL script Quality Control Engineer] Task output: ```sql\n",
      "SELECT artist.artist_name, artist.title\n",
      "FROM artist\n",
      "LEFT JOIN volume ON artist.artist_id = volume.artist_id\n",
      "WHERE volume.volume IS NULL\n",
      "AND artist.famous = 1;\n",
      "```\n",
      "\n",
      "\u001b[00m\n",
      "\u001b[1m\u001b[93m [DEBUG]: == Working Agent: Chief Database Administrator\u001b[00m\n",
      "\u001b[1m\u001b[93m [INFO]: == Starting Task: You will look over the sql query to insure that it is complete and does the job that it is supposed to do which is generating a SQL query to answer the following question:\n",
      "Find the famous titles of artists that do not have any volume.\u001b[00m\n",
      "\n",
      "\n",
      "\u001b[1m> Entering new CrewAgentExecutor chain...\u001b[0m\n",
      "\u001b[32;1m\u001b[1;3mI need to ensure that the SQL query I create is accurate and complete in order to find the famous titles of artists that do not have any volume.\n",
      "\n",
      "Action: Delegate work to co-worker\n",
      "Action Input: \n",
      "{\n",
      "  \"coworker\": \"Senior Database SQL query Writer\",\n",
      "  \"task\": \"Create SQL query to find famous titles of artists without any volume\",\n",
      "  \"context\": \"I need a SQL query that will retrieve the famous titles of artists from the 'artist' table in the 'music_4' database who do not have any corresponding volumes in the 'volume' table. The 'artist' table has columns 'Artist_ID', 'Artist', 'Famous_Title', and 'Famous_Release_date'. The 'volume' table has columns 'Volume_ID', 'Volume_Issue', 'Issue_Date', 'Weeks_on_Top', 'Song', and 'Artist_ID'. The 'Artist_ID' column in the 'volume' table is a foreign key referencing the 'Artist_ID' column in the 'artist' table.\"\n",
      "}\n",
      "\u001b[0m\n",
      "\n",
      "\u001b[1m> Entering new CrewAgentExecutor chain...\u001b[0m\n",
      "\u001b[32;1m\u001b[1;3mI now can give a great answer\n",
      "\n",
      "Final Answer:\n",
      "```sql\n",
      "SELECT a.Famous_Title\n",
      "FROM artist a\n",
      "LEFT JOIN volume v ON a.Artist_ID = v.Artist_ID\n",
      "WHERE v.Artist_ID IS NULL\n",
      "```\u001b[0m\n",
      "\n",
      "\u001b[1m> Finished chain.\u001b[0m\n",
      "\u001b[93m \n",
      "\n",
      "```sql\n",
      "SELECT a.Famous_Title\n",
      "FROM artist a\n",
      "LEFT JOIN volume v ON a.Artist_ID = v.Artist_ID\n",
      "WHERE v.Artist_ID IS NULL\n",
      "```\n",
      "\u001b[00m\n",
      "\u001b[32;1m\u001b[1;3mFinal Answer: \n",
      "```sql\n",
      "SELECT a.Famous_Title\n",
      "FROM artist a\n",
      "LEFT JOIN volume v ON a.Artist_ID = v.Artist_ID\n",
      "WHERE v.Artist_ID IS NULL\n",
      "```\n",
      "Database Name: music_4\u001b[0m\n",
      "\n",
      "\u001b[1m> Finished chain.\u001b[0m\n",
      "\u001b[1m\u001b[92m [DEBUG]: == [Chief Database Administrator] Task output: ```sql\n",
      "SELECT a.Famous_Title\n",
      "FROM artist a\n",
      "LEFT JOIN volume v ON a.Artist_ID = v.Artist_ID\n",
      "WHERE v.Artist_ID IS NULL\n",
      "```\n",
      "Database Name: music_4\n",
      "\n",
      "\u001b[00m\n"
     ]
    }
   ],
   "source": [
    "result = text2sql_crew.kickoff(inputs=text2sql_inputs)"
   ]
  },
  {
   "cell_type": "code",
   "execution_count": 9,
   "metadata": {},
   "outputs": [
    {
     "name": "stdout",
     "output_type": "stream",
     "text": [
      "```sql\n",
      "SELECT a.Famous_Title\n",
      "FROM artist a\n",
      "LEFT JOIN volume v ON a.Artist_ID = v.Artist_ID\n",
      "WHERE v.Artist_ID IS NULL\n",
      "```\n",
      "Database Name: music_4\n"
     ]
    }
   ],
   "source": [
    "print(result)"
   ]
  },
  {
   "cell_type": "markdown",
   "metadata": {},
   "source": [
    "### Compare with gold result"
   ]
  },
  {
   "cell_type": "code",
   "execution_count": 10,
   "metadata": {},
   "outputs": [
    {
     "name": "stdout",
     "output_type": "stream",
     "text": [
      "[('Antievangelistical Process (re-release)',), ('Antithesis of All Flesh',)]\n"
     ]
    }
   ],
   "source": [
    "import sqlite3\n",
    "\n",
    "con = sqlite3.connect('spider/database/music_4/music_4.sqlite')\n",
    "cursor = con.cursor()\n",
    "cursor.execute(\"\"\"SELECT a.Famous_Title\n",
    "FROM artist a\n",
    "LEFT JOIN volume v ON a.Artist_ID = v.Artist_ID\n",
    "WHERE v.Artist_ID IS NULL\"\"\")\n",
    "results = cursor.fetchall()\n",
    "print(results)"
   ]
  },
  {
   "cell_type": "code",
   "execution_count": 11,
   "metadata": {},
   "outputs": [
    {
     "name": "stdout",
     "output_type": "stream",
     "text": [
      "[('Antievangelistical Process (re-release)',), ('Antithesis of All Flesh',)]\n"
     ]
    }
   ],
   "source": [
    "print(info['gold_result'])"
   ]
  }
 ],
 "metadata": {
  "kernelspec": {
   "display_name": "crewai",
   "language": "python",
   "name": "python3"
  },
  "language_info": {
   "codemirror_mode": {
    "name": "ipython",
    "version": 3
   },
   "file_extension": ".py",
   "mimetype": "text/x-python",
   "name": "python",
   "nbconvert_exporter": "python",
   "pygments_lexer": "ipython3",
   "version": "3.1.-1"
  }
 },
 "nbformat": 4,
 "nbformat_minor": 2
}
