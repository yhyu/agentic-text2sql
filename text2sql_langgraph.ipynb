{
 "cells": [
  {
   "cell_type": "code",
   "execution_count": 1,
   "metadata": {},
   "outputs": [],
   "source": [
    "import warnings\n",
    "warnings.filterwarnings('ignore')"
   ]
  },
  {
   "cell_type": "markdown",
   "metadata": {},
   "source": [
    "### Prepare Experiment Data"
   ]
  },
  {
   "cell_type": "code",
   "execution_count": 2,
   "metadata": {},
   "outputs": [
    {
     "name": "stdout",
     "output_type": "stream",
     "text": [
      "Loading cached Spider dataset from spider\n",
      "Schema file not found for spider/spider/database/company_1\n",
      "Schema file not found for spider/spider/database/epinions_1\n",
      "Schema file not found for spider/spider/database/twitter_1\n",
      "Schema file not found for spider/spider/database/icfp_1\n",
      "Schema file not found for spider/spider/database/flight_4\n",
      "Schema file not found for spider/spider/database/small_bank_1\n",
      "Schema file not found for spider/spider/database/chinook_1\n",
      "question: Find the famous titles of artists that do not have any volume.\n",
      "gold query: SELECT Famous_Title FROM artist WHERE Artist_ID NOT IN(SELECT Artist_ID FROM volume)\n",
      "gold result: [('Antievangelistical Process (re-release)',), ('Antithesis of All Flesh',)]\n"
     ]
    }
   ],
   "source": [
    "from spider_env import SpiderEnv\n",
    "\n",
    "spider = SpiderEnv(cache_dir='spider')\n",
    "\n",
    "# select a random question in Spider\n",
    "observation, info = spider.reset()\n",
    "question = observation[\"instruction\"]\n",
    "print('question:', question)\n",
    "print('gold query:', info['gold_query'])\n",
    "print('gold result:', info['gold_result'])"
   ]
  },
  {
   "cell_type": "markdown",
   "metadata": {},
   "source": [
    "### Prepare LLM"
   ]
  },
  {
   "cell_type": "code",
   "execution_count": 3,
   "metadata": {},
   "outputs": [],
   "source": [
    "import json\n",
    "import os\n",
    "from langchain_openai import ChatOpenAI\n",
    "from langgraph.graph import StateGraph, END\n",
    "from langchain_core.messages import SystemMessage, HumanMessage\n",
    "from semantic_search_tools import SemanticSearchTool\n",
    "\n",
    "os.environ['OPENAI_API_KEY'] = 'your-openai-api-key'\n",
    "model = ChatOpenAI(model=\"gpt-3.5-turbo\", temperature=0)\n",
    "\n",
    "# Notes: you can expand n_results to make sure the search results cover final tables, e.g., n_results=50\n",
    "db_schema_search_tool = SemanticSearchTool(n_results=10)"
   ]
  },
  {
   "cell_type": "markdown",
   "metadata": {},
   "source": [
    "### Prepare memory cache"
   ]
  },
  {
   "cell_type": "code",
   "execution_count": 4,
   "metadata": {},
   "outputs": [],
   "source": [
    "from langgraph.checkpoint.sqlite import SqliteSaver\n",
    "\n",
    "memory = SqliteSaver.from_conn_string(\":memory:\")"
   ]
  },
  {
   "cell_type": "markdown",
   "metadata": {},
   "source": [
    "### Prepare Agents"
   ]
  },
  {
   "cell_type": "code",
   "execution_count": 5,
   "metadata": {},
   "outputs": [],
   "source": [
    "from typing import TypedDict\n",
    "\n",
    "class AgentState(TypedDict):\n",
    "    question: str\n",
    "    table_schemas: str\n",
    "    database: str\n",
    "    sql: str\n",
    "    reflect: str\n",
    "    accepted: bool\n",
    "    revision: int\n",
    "    max_revision: int"
   ]
  },
  {
   "cell_type": "code",
   "execution_count": 6,
   "metadata": {},
   "outputs": [],
   "source": [
    "with open('agents/langgraph.json') as f:\n",
    "    agent_config = json.load(f)\n",
    "\n",
    "def search_engineer_node(state: AgentState):\n",
    "    candidates = db_schema_search_tool(state['question'])\n",
    "    role_prompt = agent_config['search_engineer']\n",
    "    messages = [\n",
    "        SystemMessage(content=role_prompt['system']), \n",
    "        HumanMessage(\n",
    "            content=f\"Based on the following candidate database/table schemas:\\n{candidates}\\n\\n\"\n",
    "            f\"Find the relevant database/table schemas to answer the question: {state['question']}\\n\\n{role_prompt['expected_output']}\")\n",
    "    ]\n",
    "    response = model.invoke(messages)\n",
    "    json_output = json.loads(response.content)\n",
    "    return {\"table_schemas\": json_output['table_schemas'], \"database\": json_output['database']}\n",
    "\n",
    "def senior_sql_writer_node(state: AgentState):\n",
    "    role_prompt = agent_config['senior_sql_writer']\n",
    "    messages = [\n",
    "        SystemMessage(content=role_prompt['system']), \n",
    "        HumanMessage(\n",
    "            content=f\"Based on the following database/table schemas:\\n{state['table_schemas']}\\n\\n\"\n",
    "            f\"Write a SQL script to answer the question: {state['question']}\\n\\n{role_prompt['expected_output']}\")\n",
    "    ]\n",
    "    response = model.invoke(messages)\n",
    "    return {\"sql\": response.content, \"revision\": state['revision']+1}\n",
    "\n",
    "def senior_qa_engineer_node(state: AgentState):\n",
    "    role_prompt = agent_config['senior_qa_engineer']\n",
    "    messages = [\n",
    "        SystemMessage(content=role_prompt['system']), \n",
    "        HumanMessage(\n",
    "            content=f\"Based on the following database/table schemas:\\n{state['table_schemas']}\\n\\n\"\n",
    "            f\"And the sql script:\\n{state['sql']}\\n\\n\"\n",
    "            f\"Verify the sql script to check if it can complete the task: {state['question']}\\n\\n{role_prompt['expected_output']}\")\n",
    "    ]\n",
    "    response = model.invoke(messages)\n",
    "    return {\"accepted\": 'ACCEPTED' in response.content.upper()}\n",
    "\n",
    "def chief_dba_node(state: AgentState):\n",
    "    role_prompt = agent_config['chief_dba']\n",
    "    messages = [\n",
    "        SystemMessage(content=role_prompt['system']), \n",
    "        HumanMessage(\n",
    "            content=f\"Based on the following database/table schemas:\\n{state['table_schemas']}\\n\\n\"\n",
    "            f\"And the imperfect sql script:\\n{state['sql']}\\n\\n\"\n",
    "            f\"Provide the usefule and detail recommendation to help the sql writer complete the task: {state['question']}\\n\\n{role_prompt['expected_output']}\")\n",
    "    ]\n",
    "    response = model.invoke(messages)\n",
    "    return {\"reflect\": response.content}"
   ]
  },
  {
   "cell_type": "markdown",
   "metadata": {},
   "source": [
    "### Construct Graph"
   ]
  },
  {
   "cell_type": "code",
   "execution_count": 7,
   "metadata": {},
   "outputs": [],
   "source": [
    "builder = StateGraph(AgentState)\n",
    "\n",
    "# add nodes\n",
    "builder.add_node(\"search_engineer\", search_engineer_node)\n",
    "builder.add_node(\"sql_writer\", senior_sql_writer_node)\n",
    "builder.add_node(\"qa_engineer\", senior_qa_engineer_node)\n",
    "builder.add_node(\"chief_dba\", chief_dba_node)\n",
    "\n",
    "# add edges\n",
    "builder.add_edge(\"search_engineer\", \"sql_writer\")\n",
    "builder.add_edge(\"sql_writer\", \"qa_engineer\")\n",
    "builder.add_edge(\"chief_dba\", \"sql_writer\")\n",
    "\n",
    "# add conditional edges\n",
    "builder.add_conditional_edges(\n",
    "    \"qa_engineer\", \n",
    "    lambda state: END if state['accepted'] == True or state['revision'] >= state['max_revision'] else \"reflect\", \n",
    "    {END: END, \"reflect\": \"chief_dba\"}\n",
    ")\n",
    "\n",
    "# set entry point\n",
    "builder.set_entry_point(\"search_engineer\")\n",
    "\n",
    "# compile graph\n",
    "graph = builder.compile(checkpointer=memory)"
   ]
  },
  {
   "cell_type": "markdown",
   "metadata": {},
   "source": [
    "### Visualize the Graph"
   ]
  },
  {
   "cell_type": "code",
   "execution_count": 8,
   "metadata": {},
   "outputs": [
    {
     "data": {
      "image/png": "[encoded data removed]",
      "text/plain": [
       "<IPython.core.display.Image object>"
      ]
     },
     "execution_count": 8,
     "metadata": {},
     "output_type": "execute_result"
    }
   ],
   "source": [
    "from IPython.display import Image\n",
    "\n",
    "Image(graph.get_graph().draw_png())"
   ]
  },
  {
   "cell_type": "markdown",
   "metadata": {},
   "source": [
    "### Run the Graph"
   ]
  },
  {
   "cell_type": "code",
   "execution_count": 9,
   "metadata": {},
   "outputs": [
    {
     "name": "stdout",
     "output_type": "stream",
     "text": [
      "{'search_engineer': {'table_schemas': [{'table': 'artist', 'schema': 'CREATE TABLE \"artist\" (\\n\"Artist_ID\" int,\\n\"Artist\" text,\\n\"Age\" int,\\n\"Famous_Title\" text,\\n\"Famous_Release_date\" text,\\nPRIMARY KEY (\"Artist_ID\")\\n)'}, {'table': 'volume', 'schema': 'CREATE TABLE \"volume\" (\\n\"Volume_ID\" int,\\n\"Volume_Issue\" text,\\n\"Issue_Date\" text,\\n\"Weeks_on_Top\" real,\\n\"Song\" text,\\n\"Artist_ID\" int,\\nPRIMARY KEY (\"Volume_ID\"),\\nFOREIGN KEY (`Artist_ID`) REFERENCES `artist`(`Artist_ID`)\\n)'}], 'database': 'music_4'}}\n",
      "{'sql_writer': {'sql': '```sql\\nSELECT DISTINCT a.\"Famous_Title\"\\nFROM artist a\\nLEFT JOIN volume v ON a.\"Artist_ID\" = v.\"Artist_ID\"\\nWHERE v.\"Artist_ID\" IS NULL;\\n```', 'revision': 1}}\n",
      "{'qa_engineer': {'accepted': True}}\n"
     ]
    }
   ],
   "source": [
    "thread = {\"configurable\": {\"thread_id\": \"1\"}}\n",
    "for s in graph.stream({\n",
    "    'question': question,\n",
    "    'accepted': False,\n",
    "    \"revision\": 0,\n",
    "    \"max_revisions\": 2\n",
    "}, thread):\n",
    "    print(s)"
   ]
  },
  {
   "cell_type": "code",
   "execution_count": 10,
   "metadata": {},
   "outputs": [
    {
     "name": "stdout",
     "output_type": "stream",
     "text": [
      "database: music_4\n",
      "sql:\n",
      " ```sql\n",
      "SELECT DISTINCT a.\"Famous_Title\"\n",
      "FROM artist a\n",
      "LEFT JOIN volume v ON a.\"Artist_ID\" = v.\"Artist_ID\"\n",
      "WHERE v.\"Artist_ID\" IS NULL;\n",
      "```\n"
     ]
    }
   ],
   "source": [
    "print('database:', graph.get_state(thread).values['database'])\n",
    "print('sql:\\n', graph.get_state(thread).values['sql'])"
   ]
  },
  {
   "cell_type": "markdown",
   "metadata": {},
   "source": [
    "### Compare with gold result"
   ]
  },
  {
   "cell_type": "code",
   "execution_count": 11,
   "metadata": {},
   "outputs": [
    {
     "name": "stdout",
     "output_type": "stream",
     "text": [
      "[('Antievangelistical Process (re-release)',), ('Antithesis of All Flesh',)]\n"
     ]
    }
   ],
   "source": [
    "import sqlite3\n",
    "\n",
    "database = graph.get_state(thread).values['database']\n",
    "con = sqlite3.connect(f'spider/spider/database/{database}/{database}.sqlite')\n",
    "cursor = con.cursor()\n",
    "cursor.execute(\"\"\"SELECT a.\"Famous_Title\"\n",
    "FROM \"artist\" a\n",
    "LEFT JOIN \"volume\" v ON a.\"Artist_ID\" = v.\"Artist_ID\"\n",
    "WHERE v.\"Volume_ID\" IS NULL;\"\"\")\n",
    "results = cursor.fetchall()\n",
    "print(results)"
   ]
  },
  {
   "cell_type": "code",
   "execution_count": 12,
   "metadata": {},
   "outputs": [
    {
     "name": "stdout",
     "output_type": "stream",
     "text": [
      "[('Antievangelistical Process (re-release)',), ('Antithesis of All Flesh',)]\n"
     ]
    }
   ],
   "source": [
    "print(info['gold_result'])"
   ]
  }
 ],
 "metadata": {
  "kernelspec": {
   "display_name": "Python 3 (ipykernel)",
   "language": "python",
   "name": "python3"
  },
  "language_info": {
   "codemirror_mode": {
    "name": "ipython",
    "version": 3
   },
   "file_extension": ".py",
   "mimetype": "text/x-python",
   "name": "python",
   "nbconvert_exporter": "python",
   "pygments_lexer": "ipython3",
   "version": "3.12.4"
  }
 },
 "nbformat": 4,
 "nbformat_minor": 4
}
